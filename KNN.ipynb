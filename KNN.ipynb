{
  "nbformat": 4,
  "nbformat_minor": 0,
  "metadata": {
    "colab": {
      "name": "DataMining.ipynb",
      "provenance": [],
      "collapsed_sections": []
    },
    "kernelspec": {
      "name": "python3",
      "display_name": "Python 3"
    },
    "language_info": {
      "name": "python"
    }
  },
  "cells": [
    {
      "cell_type": "code",
      "metadata": {
        "id": "N9YN2WVmuCvN"
      },
      "source": [
        "import pandas as pd\n",
        "import numpy as np\n",
        "from sklearn.preprocessing import LabelEncoder\n",
        "\n",
        "%matplotlib inline"
      ],
      "execution_count": null,
      "outputs": []
    },
    {
      "cell_type": "code",
      "metadata": {
        "colab": {
          "base_uri": "https://localhost:8080/",
          "height": 206
        },
        "id": "vc8n_eRFvInU",
        "outputId": "a2cd50d1-c21b-4e10-93fb-40f84751682a"
      },
      "source": [
        "df = pd.read_csv('sample_data/column_2C_weka.csv')\n",
        "df.head()"
      ],
      "execution_count": null,
      "outputs": [
        {
          "output_type": "execute_result",
          "data": {
            "text/html": [
              "<div>\n",
              "<style scoped>\n",
              "    .dataframe tbody tr th:only-of-type {\n",
              "        vertical-align: middle;\n",
              "    }\n",
              "\n",
              "    .dataframe tbody tr th {\n",
              "        vertical-align: top;\n",
              "    }\n",
              "\n",
              "    .dataframe thead th {\n",
              "        text-align: right;\n",
              "    }\n",
              "</style>\n",
              "<table border=\"1\" class=\"dataframe\">\n",
              "  <thead>\n",
              "    <tr style=\"text-align: right;\">\n",
              "      <th></th>\n",
              "      <th>pelvic_incidence</th>\n",
              "      <th>pelvic_tilt numeric</th>\n",
              "      <th>lumbar_lordosis_angle</th>\n",
              "      <th>sacral_slope</th>\n",
              "      <th>pelvic_radius</th>\n",
              "      <th>degree_spondylolisthesis</th>\n",
              "      <th>class</th>\n",
              "    </tr>\n",
              "  </thead>\n",
              "  <tbody>\n",
              "    <tr>\n",
              "      <th>0</th>\n",
              "      <td>63.027818</td>\n",
              "      <td>22.552586</td>\n",
              "      <td>39.609117</td>\n",
              "      <td>40.475232</td>\n",
              "      <td>98.672917</td>\n",
              "      <td>-0.254400</td>\n",
              "      <td>Abnormal</td>\n",
              "    </tr>\n",
              "    <tr>\n",
              "      <th>1</th>\n",
              "      <td>39.056951</td>\n",
              "      <td>10.060991</td>\n",
              "      <td>25.015378</td>\n",
              "      <td>28.995960</td>\n",
              "      <td>114.405425</td>\n",
              "      <td>4.564259</td>\n",
              "      <td>Abnormal</td>\n",
              "    </tr>\n",
              "    <tr>\n",
              "      <th>2</th>\n",
              "      <td>68.832021</td>\n",
              "      <td>22.218482</td>\n",
              "      <td>50.092194</td>\n",
              "      <td>46.613539</td>\n",
              "      <td>105.985135</td>\n",
              "      <td>-3.530317</td>\n",
              "      <td>Abnormal</td>\n",
              "    </tr>\n",
              "    <tr>\n",
              "      <th>3</th>\n",
              "      <td>69.297008</td>\n",
              "      <td>24.652878</td>\n",
              "      <td>44.311238</td>\n",
              "      <td>44.644130</td>\n",
              "      <td>101.868495</td>\n",
              "      <td>11.211523</td>\n",
              "      <td>Abnormal</td>\n",
              "    </tr>\n",
              "    <tr>\n",
              "      <th>4</th>\n",
              "      <td>49.712859</td>\n",
              "      <td>9.652075</td>\n",
              "      <td>28.317406</td>\n",
              "      <td>40.060784</td>\n",
              "      <td>108.168725</td>\n",
              "      <td>7.918501</td>\n",
              "      <td>Abnormal</td>\n",
              "    </tr>\n",
              "  </tbody>\n",
              "</table>\n",
              "</div>"
            ],
            "text/plain": [
              "   pelvic_incidence  pelvic_tilt numeric  ...  degree_spondylolisthesis     class\n",
              "0         63.027818            22.552586  ...                 -0.254400  Abnormal\n",
              "1         39.056951            10.060991  ...                  4.564259  Abnormal\n",
              "2         68.832021            22.218482  ...                 -3.530317  Abnormal\n",
              "3         69.297008            24.652878  ...                 11.211523  Abnormal\n",
              "4         49.712859             9.652075  ...                  7.918501  Abnormal\n",
              "\n",
              "[5 rows x 7 columns]"
            ]
          },
          "metadata": {},
          "execution_count": 25
        }
      ]
    },
    {
      "cell_type": "code",
      "metadata": {
        "colab": {
          "base_uri": "https://localhost:8080/"
        },
        "id": "wUlD-jZmyYBI",
        "outputId": "d534523b-4c80-45f5-98ec-7f78c3d49732"
      },
      "source": [
        "df.columns"
      ],
      "execution_count": null,
      "outputs": [
        {
          "output_type": "execute_result",
          "data": {
            "text/plain": [
              "Index(['pelvic_incidence', 'pelvic_tilt numeric', 'lumbar_lordosis_angle',\n",
              "       'sacral_slope', 'pelvic_radius', 'degree_spondylolisthesis', 'class'],\n",
              "      dtype='object')"
            ]
          },
          "metadata": {},
          "execution_count": 26
        }
      ]
    },
    {
      "cell_type": "code",
      "metadata": {
        "id": "HrH1wK5Ky9SC"
      },
      "source": [
        "l1 = LabelEncoder()\n",
        "label = l1.fit_transform(df[\"class\"])\n",
        "Data = df.drop(\"class\", axis='columns')\n",
        "Data[\"class\"] = label"
      ],
      "execution_count": null,
      "outputs": []
    },
    {
      "cell_type": "code",
      "metadata": {
        "colab": {
          "base_uri": "https://localhost:8080/",
          "height": 206
        },
        "id": "l0GbwhHWzfWI",
        "outputId": "a9803808-2dc3-44f6-d490-213f84706b88"
      },
      "source": [
        "Data.head()"
      ],
      "execution_count": null,
      "outputs": [
        {
          "output_type": "execute_result",
          "data": {
            "text/html": [
              "<div>\n",
              "<style scoped>\n",
              "    .dataframe tbody tr th:only-of-type {\n",
              "        vertical-align: middle;\n",
              "    }\n",
              "\n",
              "    .dataframe tbody tr th {\n",
              "        vertical-align: top;\n",
              "    }\n",
              "\n",
              "    .dataframe thead th {\n",
              "        text-align: right;\n",
              "    }\n",
              "</style>\n",
              "<table border=\"1\" class=\"dataframe\">\n",
              "  <thead>\n",
              "    <tr style=\"text-align: right;\">\n",
              "      <th></th>\n",
              "      <th>pelvic_incidence</th>\n",
              "      <th>pelvic_tilt numeric</th>\n",
              "      <th>lumbar_lordosis_angle</th>\n",
              "      <th>sacral_slope</th>\n",
              "      <th>pelvic_radius</th>\n",
              "      <th>degree_spondylolisthesis</th>\n",
              "      <th>class</th>\n",
              "    </tr>\n",
              "  </thead>\n",
              "  <tbody>\n",
              "    <tr>\n",
              "      <th>0</th>\n",
              "      <td>63.027818</td>\n",
              "      <td>22.552586</td>\n",
              "      <td>39.609117</td>\n",
              "      <td>40.475232</td>\n",
              "      <td>98.672917</td>\n",
              "      <td>-0.254400</td>\n",
              "      <td>0</td>\n",
              "    </tr>\n",
              "    <tr>\n",
              "      <th>1</th>\n",
              "      <td>39.056951</td>\n",
              "      <td>10.060991</td>\n",
              "      <td>25.015378</td>\n",
              "      <td>28.995960</td>\n",
              "      <td>114.405425</td>\n",
              "      <td>4.564259</td>\n",
              "      <td>0</td>\n",
              "    </tr>\n",
              "    <tr>\n",
              "      <th>2</th>\n",
              "      <td>68.832021</td>\n",
              "      <td>22.218482</td>\n",
              "      <td>50.092194</td>\n",
              "      <td>46.613539</td>\n",
              "      <td>105.985135</td>\n",
              "      <td>-3.530317</td>\n",
              "      <td>0</td>\n",
              "    </tr>\n",
              "    <tr>\n",
              "      <th>3</th>\n",
              "      <td>69.297008</td>\n",
              "      <td>24.652878</td>\n",
              "      <td>44.311238</td>\n",
              "      <td>44.644130</td>\n",
              "      <td>101.868495</td>\n",
              "      <td>11.211523</td>\n",
              "      <td>0</td>\n",
              "    </tr>\n",
              "    <tr>\n",
              "      <th>4</th>\n",
              "      <td>49.712859</td>\n",
              "      <td>9.652075</td>\n",
              "      <td>28.317406</td>\n",
              "      <td>40.060784</td>\n",
              "      <td>108.168725</td>\n",
              "      <td>7.918501</td>\n",
              "      <td>0</td>\n",
              "    </tr>\n",
              "  </tbody>\n",
              "</table>\n",
              "</div>"
            ],
            "text/plain": [
              "   pelvic_incidence  pelvic_tilt numeric  ...  degree_spondylolisthesis  class\n",
              "0         63.027818            22.552586  ...                 -0.254400      0\n",
              "1         39.056951            10.060991  ...                  4.564259      0\n",
              "2         68.832021            22.218482  ...                 -3.530317      0\n",
              "3         69.297008            24.652878  ...                 11.211523      0\n",
              "4         49.712859             9.652075  ...                  7.918501      0\n",
              "\n",
              "[5 rows x 7 columns]"
            ]
          },
          "metadata": {},
          "execution_count": 28
        }
      ]
    },
    {
      "cell_type": "markdown",
      "metadata": {
        "id": "0XGaglpUz-5-"
      },
      "source": [
        "### **Buat X_Train dan Y_Train**"
      ]
    },
    {
      "cell_type": "code",
      "metadata": {
        "id": "82bgTdAKzvM1"
      },
      "source": [
        "X_Data = Data[['pelvic_incidence', 'pelvic_tilt numeric', 'lumbar_lordosis_angle',\n",
        "       'sacral_slope', 'pelvic_radius', 'degree_spondylolisthesis','class']]\n",
        "Y_Data = Data[\"class\"]"
      ],
      "execution_count": null,
      "outputs": []
    },
    {
      "cell_type": "markdown",
      "metadata": {
        "id": "IgFdGSmX0RBN"
      },
      "source": [
        "### **Normalisasi MinMax**"
      ]
    },
    {
      "cell_type": "code",
      "metadata": {
        "id": "1zfQuGM40Se_"
      },
      "source": [
        "from sklearn.preprocessing import MinMaxScaler"
      ],
      "execution_count": null,
      "outputs": []
    },
    {
      "cell_type": "code",
      "metadata": {
        "colab": {
          "base_uri": "https://localhost:8080/",
          "height": 175
        },
        "id": "M6HlOsyN0c1d",
        "outputId": "e72581d6-0c16-4d4c-f382-207a21c54441"
      },
      "source": [
        "X_Data.tail(4)"
      ],
      "execution_count": null,
      "outputs": [
        {
          "output_type": "execute_result",
          "data": {
            "text/html": [
              "<div>\n",
              "<style scoped>\n",
              "    .dataframe tbody tr th:only-of-type {\n",
              "        vertical-align: middle;\n",
              "    }\n",
              "\n",
              "    .dataframe tbody tr th {\n",
              "        vertical-align: top;\n",
              "    }\n",
              "\n",
              "    .dataframe thead th {\n",
              "        text-align: right;\n",
              "    }\n",
              "</style>\n",
              "<table border=\"1\" class=\"dataframe\">\n",
              "  <thead>\n",
              "    <tr style=\"text-align: right;\">\n",
              "      <th></th>\n",
              "      <th>pelvic_incidence</th>\n",
              "      <th>pelvic_tilt numeric</th>\n",
              "      <th>lumbar_lordosis_angle</th>\n",
              "      <th>sacral_slope</th>\n",
              "      <th>pelvic_radius</th>\n",
              "      <th>degree_spondylolisthesis</th>\n",
              "      <th>class</th>\n",
              "    </tr>\n",
              "  </thead>\n",
              "  <tbody>\n",
              "    <tr>\n",
              "      <th>306</th>\n",
              "      <td>53.936748</td>\n",
              "      <td>20.721496</td>\n",
              "      <td>29.220534</td>\n",
              "      <td>33.215251</td>\n",
              "      <td>114.365845</td>\n",
              "      <td>-0.421010</td>\n",
              "      <td>1</td>\n",
              "    </tr>\n",
              "    <tr>\n",
              "      <th>307</th>\n",
              "      <td>61.446597</td>\n",
              "      <td>22.694968</td>\n",
              "      <td>46.170347</td>\n",
              "      <td>38.751628</td>\n",
              "      <td>125.670725</td>\n",
              "      <td>-2.707880</td>\n",
              "      <td>1</td>\n",
              "    </tr>\n",
              "    <tr>\n",
              "      <th>308</th>\n",
              "      <td>45.252792</td>\n",
              "      <td>8.693157</td>\n",
              "      <td>41.583126</td>\n",
              "      <td>36.559635</td>\n",
              "      <td>118.545842</td>\n",
              "      <td>0.214750</td>\n",
              "      <td>1</td>\n",
              "    </tr>\n",
              "    <tr>\n",
              "      <th>309</th>\n",
              "      <td>33.841641</td>\n",
              "      <td>5.073991</td>\n",
              "      <td>36.641233</td>\n",
              "      <td>28.767649</td>\n",
              "      <td>123.945244</td>\n",
              "      <td>-0.199249</td>\n",
              "      <td>1</td>\n",
              "    </tr>\n",
              "  </tbody>\n",
              "</table>\n",
              "</div>"
            ],
            "text/plain": [
              "     pelvic_incidence  pelvic_tilt numeric  ...  degree_spondylolisthesis  class\n",
              "306         53.936748            20.721496  ...                 -0.421010      1\n",
              "307         61.446597            22.694968  ...                 -2.707880      1\n",
              "308         45.252792             8.693157  ...                  0.214750      1\n",
              "309         33.841641             5.073991  ...                 -0.199249      1\n",
              "\n",
              "[4 rows x 7 columns]"
            ]
          },
          "metadata": {},
          "execution_count": 47
        }
      ]
    },
    {
      "cell_type": "code",
      "metadata": {
        "id": "2LWsSlE20gxt"
      },
      "source": [
        "scalar = MinMaxScaler()\n",
        "scalar.fit(X_Data)\n",
        "New_Data = scalar.transform(X_Data)"
      ],
      "execution_count": null,
      "outputs": []
    },
    {
      "cell_type": "code",
      "metadata": {
        "colab": {
          "base_uri": "https://localhost:8080/"
        },
        "id": "A-obnHk70rSy",
        "outputId": "51f6cd46-4bb4-46b2-9ecc-182628ef18fa"
      },
      "source": [
        "New_Data"
      ],
      "execution_count": null,
      "outputs": [
        {
          "output_type": "execute_result",
          "data": {
            "text/plain": [
              "array([[0.35568788, 0.51989984, 0.22917997, 0.2508573 , 0.30746116,\n",
              "        0.02514839],\n",
              "       [0.12450104, 0.2967831 , 0.09857833, 0.14462935, 0.47664891,\n",
              "        0.03636497],\n",
              "       [0.41166648, 0.51393229, 0.32299466, 0.30766054, 0.38609692,\n",
              "        0.0175229 ],\n",
              "       ...,\n",
              "       [0.34043781, 0.52244298, 0.28789745, 0.23490726, 0.59779618,\n",
              "        0.01943732],\n",
              "       [0.18425678, 0.27235174, 0.24684569, 0.21462279, 0.52117504,\n",
              "        0.02624045],\n",
              "       [0.07420202, 0.20770855, 0.20261992, 0.14251659, 0.57924032,\n",
              "        0.02527676]])"
            ]
          },
          "metadata": {},
          "execution_count": 48
        }
      ]
    },
    {
      "cell_type": "markdown",
      "metadata": {
        "id": "DQDqX5fbdSyK"
      },
      "source": [
        "### **Normalisasi Z Score**"
      ]
    },
    {
      "cell_type": "code",
      "metadata": {
        "id": "CXt0ZCDAdSOe"
      },
      "source": [
        "from sklearn.preprocessing import StandardScaler"
      ],
      "execution_count": null,
      "outputs": []
    },
    {
      "cell_type": "code",
      "metadata": {
        "colab": {
          "base_uri": "https://localhost:8080/"
        },
        "id": "hlxxDhQOdv9s",
        "outputId": "fc962161-eed9-4847-81e9-b72e11cce9b9"
      },
      "source": [
        "Y_Data.head()"
      ],
      "execution_count": null,
      "outputs": [
        {
          "output_type": "execute_result",
          "data": {
            "text/plain": [
              "0    0\n",
              "1    0\n",
              "2    0\n",
              "3    0\n",
              "4    0\n",
              "Name: class, dtype: int64"
            ]
          },
          "metadata": {},
          "execution_count": 52
        }
      ]
    },
    {
      "cell_type": "code",
      "metadata": {
        "id": "ntTt3bdHdy8i"
      },
      "source": [
        "scalar = StandardScaler()\n",
        "scalar.fit(X_Data)\n",
        "New_Data = scalar.transform(X_Data)"
      ],
      "execution_count": null,
      "outputs": []
    },
    {
      "cell_type": "code",
      "metadata": {
        "colab": {
          "base_uri": "https://localhost:8080/"
        },
        "id": "_p_tA_nIeNNc",
        "outputId": "5753c054-fd0e-43c2-d84d-b2ecacc8f980"
      },
      "source": [
        "New_Data"
      ],
      "execution_count": null,
      "outputs": [
        {
          "output_type": "execute_result",
          "data": {
            "text/plain": [
              "array([[ 0.14708636,  0.50136873, -0.6651769 , ..., -1.4476468 ,\n",
              "        -0.70805942, -0.69006556],\n",
              "       [-1.24586434, -0.74876898, -1.45300075, ..., -0.26438488,\n",
              "        -0.57955637, -0.69006556],\n",
              "       [ 0.4843695 ,  0.46793218, -0.09926175, ..., -0.89768556,\n",
              "        -0.79542095, -0.69006556],\n",
              "       ...,\n",
              "       [ 0.05520137,  0.51561812, -0.31097748, ...,  0.58289256,\n",
              "        -0.77348834,  1.44913767],\n",
              "       [-0.88582307, -0.88565951, -0.55861259, ...,  0.04702109,\n",
              "        -0.69554822,  1.44913767],\n",
              "       [-1.54892681, -1.24785954, -0.82539423, ...,  0.45311695,\n",
              "        -0.70658867,  1.44913767]])"
            ]
          },
          "metadata": {},
          "execution_count": 54
        }
      ]
    },
    {
      "cell_type": "markdown",
      "metadata": {
        "id": "H6FZc4W8NRvb"
      },
      "source": [
        "### DOwnload\n"
      ]
    },
    {
      "cell_type": "code",
      "metadata": {
        "id": "3jbOBrJqOs0l"
      },
      "source": [
        "from numpy import asarray\n",
        "from numpy import savetxt\n",
        "\n",
        "\n",
        "data = New_Data\n",
        "savetxt('sample_data/data.csv',data, delimiter=',',header='pelvic_incidence,pelvic_tilt numeric,lumbar_lordosis_angle,sacral_slope,pelvic_radius,degree_spondylolisthesis,class');"
      ],
      "execution_count": null,
      "outputs": []
    },
    {
      "cell_type": "code",
      "metadata": {
        "colab": {
          "base_uri": "https://localhost:8080/",
          "height": 206
        },
        "id": "W1835rx4SEaT",
        "outputId": "e6247120-ef74-440c-8ce4-618c234c4b6c"
      },
      "source": [
        "df = pd.read_csv('sample_data/data.csv')\n",
        "df.head()"
      ],
      "execution_count": null,
      "outputs": [
        {
          "output_type": "execute_result",
          "data": {
            "text/html": [
              "<div>\n",
              "<style scoped>\n",
              "    .dataframe tbody tr th:only-of-type {\n",
              "        vertical-align: middle;\n",
              "    }\n",
              "\n",
              "    .dataframe tbody tr th {\n",
              "        vertical-align: top;\n",
              "    }\n",
              "\n",
              "    .dataframe thead th {\n",
              "        text-align: right;\n",
              "    }\n",
              "</style>\n",
              "<table border=\"1\" class=\"dataframe\">\n",
              "  <thead>\n",
              "    <tr style=\"text-align: right;\">\n",
              "      <th></th>\n",
              "      <th># pelvic_incidence</th>\n",
              "      <th>pelvic_tilt numeric</th>\n",
              "      <th>lumbar_lordosis_angle</th>\n",
              "      <th>sacral_slope</th>\n",
              "      <th>pelvic_radius</th>\n",
              "      <th>degree_spondylolisthesis</th>\n",
              "      <th>class</th>\n",
              "    </tr>\n",
              "  </thead>\n",
              "  <tbody>\n",
              "    <tr>\n",
              "      <th>0</th>\n",
              "      <td>0.147086</td>\n",
              "      <td>0.501369</td>\n",
              "      <td>-0.665177</td>\n",
              "      <td>-0.184950</td>\n",
              "      <td>-1.447647</td>\n",
              "      <td>-0.708059</td>\n",
              "      <td>-0.690066</td>\n",
              "    </tr>\n",
              "    <tr>\n",
              "      <th>1</th>\n",
              "      <td>-1.245864</td>\n",
              "      <td>-0.748769</td>\n",
              "      <td>-1.453001</td>\n",
              "      <td>-1.041521</td>\n",
              "      <td>-0.264385</td>\n",
              "      <td>-0.579556</td>\n",
              "      <td>-0.690066</td>\n",
              "    </tr>\n",
              "    <tr>\n",
              "      <th>2</th>\n",
              "      <td>0.484370</td>\n",
              "      <td>0.467932</td>\n",
              "      <td>-0.099262</td>\n",
              "      <td>0.273083</td>\n",
              "      <td>-0.897686</td>\n",
              "      <td>-0.795421</td>\n",
              "      <td>-0.690066</td>\n",
              "    </tr>\n",
              "    <tr>\n",
              "      <th>3</th>\n",
              "      <td>0.511390</td>\n",
              "      <td>0.711562</td>\n",
              "      <td>-0.411339</td>\n",
              "      <td>0.126128</td>\n",
              "      <td>-1.207303</td>\n",
              "      <td>-0.402288</td>\n",
              "      <td>-0.690066</td>\n",
              "    </tr>\n",
              "    <tr>\n",
              "      <th>4</th>\n",
              "      <td>-0.626648</td>\n",
              "      <td>-0.789693</td>\n",
              "      <td>-1.274745</td>\n",
              "      <td>-0.215876</td>\n",
              "      <td>-0.733455</td>\n",
              "      <td>-0.490106</td>\n",
              "      <td>-0.690066</td>\n",
              "    </tr>\n",
              "  </tbody>\n",
              "</table>\n",
              "</div>"
            ],
            "text/plain": [
              "   # pelvic_incidence  pelvic_tilt numeric  ...  degree_spondylolisthesis     class\n",
              "0            0.147086             0.501369  ...                 -0.708059 -0.690066\n",
              "1           -1.245864            -0.748769  ...                 -0.579556 -0.690066\n",
              "2            0.484370             0.467932  ...                 -0.795421 -0.690066\n",
              "3            0.511390             0.711562  ...                 -0.402288 -0.690066\n",
              "4           -0.626648            -0.789693  ...                 -0.490106 -0.690066\n",
              "\n",
              "[5 rows x 7 columns]"
            ]
          },
          "metadata": {},
          "execution_count": 56
        }
      ]
    },
    {
      "cell_type": "markdown",
      "metadata": {
        "id": "uI08_OhqUWZ-"
      },
      "source": [
        "### **KNN**"
      ]
    },
    {
      "cell_type": "code",
      "metadata": {
        "id": "PjabsevEhasS"
      },
      "source": [
        "import pandas as pd\n",
        "import numpy as np\n",
        "import matplotlib.pyplot as plt\n",
        "from sklearn import datasets\n",
        "from sklearn.neighbors import KNeighborsClassifier\n",
        "from sklearn.metrics import accuracy_score\n",
        "from sklearn.metrics import classification_report, confusion_matrix"
      ],
      "execution_count": null,
      "outputs": []
    },
    {
      "cell_type": "code",
      "metadata": {
        "id": "WgC5yOkFibk0"
      },
      "source": [
        "data=pd.read_csv('sample_data/train.csv')\n",
        "df=pd.DataFrame(data,columns=['# pelvic_incidence', 'pelvic_tilt numeric', 'lumbar_lordosis_angle', 'sacral_slope', 'pelvic_radius', 'degree_spondylolisthesis', 'class'])\n",
        "X=np.asarray(data)\n",
        "x_train=df.iloc[:,:-1]\n",
        "y_train=df.iloc[:,-1]"
      ],
      "execution_count": null,
      "outputs": []
    },
    {
      "cell_type": "code",
      "metadata": {
        "id": "lVNOLV5YsN3Q"
      },
      "source": [
        "X = df.iloc[:,:-1]\n",
        "y = df.iloc[:,-1]"
      ],
      "execution_count": null,
      "outputs": []
    },
    {
      "cell_type": "code",
      "metadata": {
        "id": "h6rdiN77qN3R",
        "colab": {
          "base_uri": "https://localhost:8080/",
          "height": 206
        },
        "outputId": "705e622f-9d89-4d6d-a3bd-b0746c3be1ca"
      },
      "source": [
        "x_train.head()"
      ],
      "execution_count": null,
      "outputs": [
        {
          "output_type": "execute_result",
          "data": {
            "text/html": [
              "<div>\n",
              "<style scoped>\n",
              "    .dataframe tbody tr th:only-of-type {\n",
              "        vertical-align: middle;\n",
              "    }\n",
              "\n",
              "    .dataframe tbody tr th {\n",
              "        vertical-align: top;\n",
              "    }\n",
              "\n",
              "    .dataframe thead th {\n",
              "        text-align: right;\n",
              "    }\n",
              "</style>\n",
              "<table border=\"1\" class=\"dataframe\">\n",
              "  <thead>\n",
              "    <tr style=\"text-align: right;\">\n",
              "      <th></th>\n",
              "      <th># pelvic_incidence</th>\n",
              "      <th>pelvic_tilt numeric</th>\n",
              "      <th>lumbar_lordosis_angle</th>\n",
              "      <th>sacral_slope</th>\n",
              "      <th>pelvic_radius</th>\n",
              "      <th>degree_spondylolisthesis</th>\n",
              "    </tr>\n",
              "  </thead>\n",
              "  <tbody>\n",
              "    <tr>\n",
              "      <th>0</th>\n",
              "      <td>0.355688</td>\n",
              "      <td>0.519900</td>\n",
              "      <td>0.229180</td>\n",
              "      <td>0.250857</td>\n",
              "      <td>0.307461</td>\n",
              "      <td>0.025148</td>\n",
              "    </tr>\n",
              "    <tr>\n",
              "      <th>1</th>\n",
              "      <td>0.124501</td>\n",
              "      <td>0.296783</td>\n",
              "      <td>0.098578</td>\n",
              "      <td>0.144629</td>\n",
              "      <td>0.476649</td>\n",
              "      <td>0.036365</td>\n",
              "    </tr>\n",
              "    <tr>\n",
              "      <th>2</th>\n",
              "      <td>0.411666</td>\n",
              "      <td>0.513932</td>\n",
              "      <td>0.322995</td>\n",
              "      <td>0.307661</td>\n",
              "      <td>0.386097</td>\n",
              "      <td>0.017523</td>\n",
              "    </tr>\n",
              "    <tr>\n",
              "      <th>3</th>\n",
              "      <td>0.416151</td>\n",
              "      <td>0.557414</td>\n",
              "      <td>0.271260</td>\n",
              "      <td>0.289436</td>\n",
              "      <td>0.341826</td>\n",
              "      <td>0.051838</td>\n",
              "    </tr>\n",
              "    <tr>\n",
              "      <th>4</th>\n",
              "      <td>0.227272</td>\n",
              "      <td>0.289479</td>\n",
              "      <td>0.128129</td>\n",
              "      <td>0.247022</td>\n",
              "      <td>0.409579</td>\n",
              "      <td>0.044173</td>\n",
              "    </tr>\n",
              "  </tbody>\n",
              "</table>\n",
              "</div>"
            ],
            "text/plain": [
              "   # pelvic_incidence  ...  degree_spondylolisthesis\n",
              "0            0.355688  ...                  0.025148\n",
              "1            0.124501  ...                  0.036365\n",
              "2            0.411666  ...                  0.017523\n",
              "3            0.416151  ...                  0.051838\n",
              "4            0.227272  ...                  0.044173\n",
              "\n",
              "[5 rows x 6 columns]"
            ]
          },
          "metadata": {},
          "execution_count": 60
        }
      ]
    },
    {
      "cell_type": "code",
      "metadata": {
        "colab": {
          "base_uri": "https://localhost:8080/"
        },
        "id": "OM8PV7SBsXMp",
        "outputId": "06710979-5e04-4907-ebca-31ec25184330"
      },
      "source": [
        "y_train.tail()"
      ],
      "execution_count": null,
      "outputs": [
        {
          "output_type": "execute_result",
          "data": {
            "text/plain": [
              "227    1.0\n",
              "228    1.0\n",
              "229    1.0\n",
              "230    1.0\n",
              "231    1.0\n",
              "Name: class, dtype: float64"
            ]
          },
          "metadata": {},
          "execution_count": 61
        }
      ]
    },
    {
      "cell_type": "code",
      "metadata": {
        "id": "m3yEA4Sxj5Vm",
        "colab": {
          "base_uri": "https://localhost:8080/"
        },
        "outputId": "209ab667-1854-417a-8b09-bb19baa3c244"
      },
      "source": [
        "knn=KNeighborsClassifier(n_neighbors=5,\n",
        "                         weights='uniform',\n",
        "                         algorithm='auto',\n",
        "                         metric='euclidean')\n",
        "\n",
        "knn.fit(x_train,y_train)"
      ],
      "execution_count": null,
      "outputs": [
        {
          "output_type": "execute_result",
          "data": {
            "text/plain": [
              "KNeighborsClassifier(algorithm='auto', leaf_size=30, metric='euclidean',\n",
              "                     metric_params=None, n_jobs=None, n_neighbors=5, p=2,\n",
              "                     weights='uniform')"
            ]
          },
          "metadata": {},
          "execution_count": 68
        }
      ]
    },
    {
      "cell_type": "code",
      "metadata": {
        "id": "jaPTkpfOkoCY"
      },
      "source": [
        "datavalidasi=pd.read_csv('sample_data/test.csv')\n",
        "df2=pd.DataFrame(datavalidasi,columns=['# pelvic_incidence', 'pelvic_tilt numeric', 'lumbar_lordosis_angle','sacral_slope', 'pelvic_radius', 'degree_spondylolisthesis', 'class'])\n",
        "X2=np.asarray(datavalidasi)\n",
        "x_val=df2.iloc[:,:-1]\n",
        "y_val=df2.iloc[:,-1]\n",
        "\n",
        "y_pred=knn.predict(x_val)\n"
      ],
      "execution_count": null,
      "outputs": []
    },
    {
      "cell_type": "code",
      "metadata": {
        "colab": {
          "base_uri": "https://localhost:8080/",
          "height": 206
        },
        "id": "cxPqoT56vnvv",
        "outputId": "170b57dc-4817-402d-9c15-7151f6209e3d"
      },
      "source": [
        "x_val.tail()"
      ],
      "execution_count": null,
      "outputs": [
        {
          "output_type": "execute_result",
          "data": {
            "text/html": [
              "<div>\n",
              "<style scoped>\n",
              "    .dataframe tbody tr th:only-of-type {\n",
              "        vertical-align: middle;\n",
              "    }\n",
              "\n",
              "    .dataframe tbody tr th {\n",
              "        vertical-align: top;\n",
              "    }\n",
              "\n",
              "    .dataframe thead th {\n",
              "        text-align: right;\n",
              "    }\n",
              "</style>\n",
              "<table border=\"1\" class=\"dataframe\">\n",
              "  <thead>\n",
              "    <tr style=\"text-align: right;\">\n",
              "      <th></th>\n",
              "      <th># pelvic_incidence</th>\n",
              "      <th>pelvic_tilt numeric</th>\n",
              "      <th>lumbar_lordosis_angle</th>\n",
              "      <th>sacral_slope</th>\n",
              "      <th>pelvic_radius</th>\n",
              "      <th>degree_spondylolisthesis</th>\n",
              "    </tr>\n",
              "  </thead>\n",
              "  <tbody>\n",
              "    <tr>\n",
              "      <th>73</th>\n",
              "      <td>0.380609</td>\n",
              "      <td>0.530355</td>\n",
              "      <td>0.434769</td>\n",
              "      <td>0.269353</td>\n",
              "      <td>0.581206</td>\n",
              "      <td>0.016236</td>\n",
              "    </tr>\n",
              "    <tr>\n",
              "      <th>74</th>\n",
              "      <td>0.267761</td>\n",
              "      <td>0.348194</td>\n",
              "      <td>0.223729</td>\n",
              "      <td>0.255452</td>\n",
              "      <td>0.517381</td>\n",
              "      <td>0.037552</td>\n",
              "    </tr>\n",
              "    <tr>\n",
              "      <th>75</th>\n",
              "      <td>0.163667</td>\n",
              "      <td>0.363848</td>\n",
              "      <td>0.235787</td>\n",
              "      <td>0.147463</td>\n",
              "      <td>0.628413</td>\n",
              "      <td>0.028001</td>\n",
              "    </tr>\n",
              "    <tr>\n",
              "      <th>76</th>\n",
              "      <td>0.140186</td>\n",
              "      <td>0.280484</td>\n",
              "      <td>0.152329</td>\n",
              "      <td>0.168123</td>\n",
              "      <td>0.742414</td>\n",
              "      <td>0.019894</td>\n",
              "    </tr>\n",
              "    <tr>\n",
              "      <th>77</th>\n",
              "      <td>0.111722</td>\n",
              "      <td>0.284732</td>\n",
              "      <td>0.250576</td>\n",
              "      <td>0.138612</td>\n",
              "      <td>0.706091</td>\n",
              "      <td>0.057591</td>\n",
              "    </tr>\n",
              "  </tbody>\n",
              "</table>\n",
              "</div>"
            ],
            "text/plain": [
              "    # pelvic_incidence  ...  degree_spondylolisthesis\n",
              "73            0.380609  ...                  0.016236\n",
              "74            0.267761  ...                  0.037552\n",
              "75            0.163667  ...                  0.028001\n",
              "76            0.140186  ...                  0.019894\n",
              "77            0.111722  ...                  0.057591\n",
              "\n",
              "[5 rows x 6 columns]"
            ]
          },
          "metadata": {},
          "execution_count": 64
        }
      ]
    },
    {
      "cell_type": "code",
      "metadata": {
        "colab": {
          "base_uri": "https://localhost:8080/"
        },
        "id": "-9lseNDuvrEL",
        "outputId": "75c2d5f9-b799-4695-9ce0-6cc9fb5a3734"
      },
      "source": [
        "y_val.tail()"
      ],
      "execution_count": null,
      "outputs": [
        {
          "output_type": "execute_result",
          "data": {
            "text/plain": [
              "73    1.0\n",
              "74    1.0\n",
              "75    1.0\n",
              "76    1.0\n",
              "77    1.0\n",
              "Name: class, dtype: float64"
            ]
          },
          "metadata": {},
          "execution_count": 65
        }
      ]
    },
    {
      "cell_type": "code",
      "metadata": {
        "colab": {
          "base_uri": "https://localhost:8080/"
        },
        "id": "roB4GeWfuuD_",
        "outputId": "723a7999-c812-40fb-92dd-bc4ee56187d1"
      },
      "source": [
        "# Evaluate the training and test score\n",
        "print('Training accuracy score: %.2f' % knn.score(x_train, y_train))\n",
        "print('Validation accuracy score: %.2f' % knn.score(x_val, y_val))"
      ],
      "execution_count": null,
      "outputs": [
        {
          "output_type": "stream",
          "name": "stdout",
          "text": [
            "Training accuracy score: 0.84\n",
            "Validation accuracy score: 0.81\n"
          ]
        }
      ]
    },
    {
      "cell_type": "code",
      "metadata": {
        "colab": {
          "base_uri": "https://localhost:8080/"
        },
        "id": "vczd6HYRu4b_",
        "outputId": "d017d3f3-6707-4839-d6d5-84c8f5f5a36a"
      },
      "source": [
        "print(confusion_matrix(y_val, y_pred))\n",
        "print(classification_report(y_val, y_pred))"
      ],
      "execution_count": null,
      "outputs": [
        {
          "output_type": "stream",
          "name": "stdout",
          "text": [
            "[[50  3]\n",
            " [12 13]]\n",
            "              precision    recall  f1-score   support\n",
            "\n",
            "         0.0       0.81      0.94      0.87        53\n",
            "         1.0       0.81      0.52      0.63        25\n",
            "\n",
            "    accuracy                           0.81        78\n",
            "   macro avg       0.81      0.73      0.75        78\n",
            "weighted avg       0.81      0.81      0.79        78\n",
            "\n"
          ]
        }
      ]
    },
    {
      "cell_type": "markdown",
      "metadata": {
        "id": "oT27UUEww6zt"
      },
      "source": [
        "### **UJI DATA BARU**"
      ]
    },
    {
      "cell_type": "code",
      "metadata": {
        "id": "SDcl1lhaw-vS"
      },
      "source": [
        "uji=np.asarray([[0.6,1,1,1,0.70,0.05]])"
      ],
      "execution_count": null,
      "outputs": []
    },
    {
      "cell_type": "code",
      "metadata": {
        "colab": {
          "base_uri": "https://localhost:8080/"
        },
        "id": "k1GfnSiHxV1T",
        "outputId": "e1ac21ad-6df2-4477-bbe8-5723a060f571"
      },
      "source": [
        "y_pred=knn.predict(uji)\n",
        "print(y_pred)"
      ],
      "execution_count": null,
      "outputs": [
        {
          "output_type": "stream",
          "name": "stdout",
          "text": [
            "[0.]\n"
          ]
        }
      ]
    }
  ]
}